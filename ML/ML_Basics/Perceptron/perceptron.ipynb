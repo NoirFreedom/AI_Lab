{
 "cells": [
  {
   "cell_type": "markdown",
   "metadata": {},
   "source": [
    "# **Perceptron이란?**\n",
    "> *퍼셉트론(Perceptron)은 인공 신경망(Aritificial Neural Network, ANN)의 구성 요소(unit)로서 다수의 값을 입력받아 하나의 값으로*  \n",
    "> *출력하는, 이진 분류(Binary Classification) 모델을 학습하기 위한 지도학습(Supervised Learning) 기반의 알고리즘.*\n"
   ]
  },
  {
   "cell_type": "markdown",
   "metadata": {},
   "source": [
    "<div style=\"text-align: center;\">\n",
    "    <img src=\"../Perceptron/assets/img/Screenshot 2023-07-26 at 5.22.03 PM.png\" style=\"width: 300px; height: 300px;\">\n",
    "</div>\n"
   ]
  },
  {
   "cell_type": "markdown",
   "metadata": {},
   "source": [
    "> *퍼셉트론은 뉴런이 다른 뉴런으로부터 신호를 입력받듯 다수의 값 x를 입력받고, 입력된 값마다 가중치(weight)를 곱하며, 가중치가 클수록 입력값이 중요하다는 것을 의미.*  \n",
    ">*입력값으로써 x 외에도 편향(bias, b)은 딥러닝 모델 최적화의 중요 변수 중 하나이고, 일반적으로 입력값을 1로 고정하고 편향 b를 곱한 변수로 표현. 입력값과 가중치의*   \n",
    ">*곱, 편향은 퍼셉트론으로 전달됩니다. 퍼셉트론은 입력받은 값을 모두 합산하는데, 합산된 결괏값을 가중합이라 부름*\n",
    "<br>\n",
    "\n",
    "#### **동작원리**\n",
    "가장 기본적인 활성화 함수 중 하나는 계단 함수(Step Function)입니다. 이 함수는 입력값이 특정 *임계치(Threshold)를 넘으면 1을 출력하고, 그렇지 않으면 0을 출력합니다. \n",
    "\n",
    "**임계치(Threshold):**  \n",
    ">*어떤 결정이 이루어지거나 상태 변화가 발생하기 위해 필요한 최소한의 값 또는 경계값을 의미.*  \n",
    ">*딥러닝에서 활성화 함수를 사용할 때 임계치는 해당 함수가 1과 0 또는 다른 값을 출력하기 위해 사용되는 경계값.*  \n",
    ">*예를들어, 계단 함수는 입력값이 임계치(Threshold)를 넘으면 1을 출력하고, 그렇지 않으면 0을 출력.*  \n",
    ">*이때, 임계치는 함수가 1로 바뀌는 기준이 되는 값이고, 임계치보다 큰 입력은 1로 활성화되고, 임계치 이하의 입력은 0으로 비활성화되는 특성을 갖음*"
   ]
  },
  {
   "cell_type": "code",
   "execution_count": 17,
   "metadata": {},
   "outputs": [
    {
     "name": "stdout",
     "output_type": "stream",
     "text": [
      "0\n",
      "0\n",
      "0\n",
      "1\n"
     ]
    }
   ],
   "source": [
    "def AND(x1 ,x2):\n",
    "    w1, w2, theta = 0.5, 0.5, 0.7\n",
    "    tmp = x1*w1 + x2*w2\n",
    "    if tmp <= theta:\n",
    "        return 0 \n",
    "    elif tmp > theta:\n",
    "        return 1\n",
    "\n",
    "print(AND(0, 0))\n",
    "print(AND(1, 0))\n",
    "print(AND(0, 1))\n",
    "print(AND(1, 1))"
   ]
  },
  {
   "cell_type": "markdown",
   "metadata": {},
   "source": [
    "#### **수식으로 표현한 Perceptron**\n",
    "\n",
    "<div style=\"text-align: center;\">\n",
    "    <img src=\"../Perceptron/assets/img/Screenshot 2023-07-26 at 5.21.46 PM.png\" style=\"width: 500px; height: 100px;\">\n",
    "</div>\n"
   ]
  },
  {
   "cell_type": "code",
   "execution_count": 12,
   "metadata": {},
   "outputs": [
    {
     "data": {
      "text/plain": [
       "array([0. , 0.5])"
      ]
     },
     "execution_count": 12,
     "metadata": {},
     "output_type": "execute_result"
    }
   ],
   "source": [
    "import numpy as np\n",
    "x = np.array([0,1])\n",
    "w = np.array([0.5,0.5])\n",
    "b = - 0.7\n",
    "w * x"
   ]
  },
  {
   "cell_type": "code",
   "execution_count": 4,
   "metadata": {},
   "outputs": [
    {
     "data": {
      "text/plain": [
       "0.5"
      ]
     },
     "execution_count": 4,
     "metadata": {},
     "output_type": "execute_result"
    }
   ],
   "source": [
    "np.sum(w*x)"
   ]
  },
  {
   "cell_type": "code",
   "execution_count": 5,
   "metadata": {},
   "outputs": [
    {
     "data": {
      "text/plain": [
       "-0.8999999999999999"
      ]
     },
     "execution_count": 5,
     "metadata": {},
     "output_type": "execute_result"
    }
   ],
   "source": [
    "np.sum(w*x + b)"
   ]
  },
  {
   "cell_type": "markdown",
   "metadata": {},
   "source": [
    "### **가중치와 편향 구현**\n",
    "\n",
    "<div style=\"text-align: center;\">\n",
    "    <img src=\"../Perceptron/assets/img/Screenshot 2023-07-26 at 5.44.37 PM.png\" style=\"width: 600px; height: 300px;\">\n",
    "</div>"
   ]
  },
  {
   "cell_type": "code",
   "execution_count": 6,
   "metadata": {},
   "outputs": [],
   "source": [
    "def AND(x1 ,x2):\n",
    "    x = np.array([x1, x2])\n",
    "    w = np.array([0.5,0.5])\n",
    "    b = - 0.7\n",
    "    tmp = np.sum(w*x) + b\n",
    "    if tmp <= 0:\n",
    "        return 0\n",
    "    else:\n",
    "        return 1"
   ]
  },
  {
   "cell_type": "markdown",
   "metadata": {},
   "source": [
    "###### *w1과 w2: 각 입력 신호가 결과에 주는 영향력을 조정하는 매개변수*  \n",
    "\n",
    "###### *편향(b): 뉴런이 얼마나 쉽게 활성화 하느냐를 조정하는 매개변수*\n",
    "\n",
    "###### *tmp: 활성화 함수에 들어가기 전의 값*"
   ]
  },
  {
   "cell_type": "markdown",
   "metadata": {},
   "source": [
    "#### **NAND 게이트 OR 게이트 구현**\n",
    "\n",
    "<div style=\"text-align: center;\">\n",
    "    <img src=\"../Perceptron/assets/img/Screenshot 2023-07-26 at 5.44.20 PM.png\" style=\"width: 600px; height: 300px;\">\n",
    "</div>\n",
    "\n",
    "<div style=\"text-align: center;\">\n",
    "    <img src=\"../Perceptron/assets/img/Screenshot 2023-07-26 at 5.44.28 PM.png\" style=\"width: 600px; height: 300px;\">\n",
    "</div>"
   ]
  },
  {
   "cell_type": "code",
   "execution_count": 10,
   "metadata": {},
   "outputs": [],
   "source": [
    "def NAND(x1 ,x2):\n",
    "    x = np.array([x1, x2])\n",
    "    w = np.array([-0.5, -0.5])\n",
    "    b = 0.7\n",
    "    tmp = np.sum(w*x) + b\n",
    "    if tmp <= 0:\n",
    "        return 0\n",
    "    else:\n",
    "        return 1\n",
    "\n",
    "def OR(x1, x2):\n",
    "    x = np.array([x1, x2])\n",
    "    w = np.array([0.5, 0.5])\n",
    "    b = -0.2\n",
    "    tmp = np.sum(w*x) + b\n",
    "    if tmp <= 0:\n",
    "        return 0\n",
    "    else:\n",
    "        return 1"
   ]
  },
  {
   "cell_type": "markdown",
   "metadata": {},
   "source": [
    "### **XOR게이트**\n",
    "*XOR 게이트는 두 개의 입력이 서로 다른 경우에만 출력이 1(참)이 되는 논리적 연산을 수행하는데, 이러한 동작을 단일 층의 퍼셉트론으로는 구현할 수 없음.*\n",
    "\n",
    "*NAND, AND 게이트와 OR 게이트는 각각 입력들을 선형적으로 구분하는 직선 형태의 경계를 갖기 때문에, 단일 층의 퍼셉트론은 두 입력의 조합에 따라 입력 공간을 두 영역으로만 나눌 수 있다, 하지만 XOR 게이트의 경우에는 두 입력이 서로 다른 경우에만 1(참)이 되기 때문에, 입력 공간을 직선 하나로만 나눌 수 있는 단일 층의 퍼셉트론으로는 구현이 불가능합니다.*\n",
    "\n",
    "*XOR 게이트를 구현하기 위해서는 여러 개의 퍼셉트론을 조합하여 다층 퍼셉트론(Multi-Layer Perceptron, MLP)을 만들어야 합니다. MLP는 입력층, 은닉층(hidden layer), 출력층으로 구성되며, 은닉층을 통해 비선형적인 결정 경계를 만들어서 XOR 게이트와 같은 복잡한 논리 연산을 수행할 수 있습니다.*"
   ]
  },
  {
   "cell_type": "markdown",
   "metadata": {},
   "source": [
    "### **단층 퍼셉트론의 한계**\n",
    "- *은닉층 없이 입력층과 출력층만 있는 경우를 단층 퍼셉트론이라 부름*\n",
    "- *단층 퍼셉트론은 디지털 논리 회로 개념에서 AND, NAND, OR 게이트를 구현할 수 있지만, XOR 게이트는 구현하지 못한다는 한계가 있음*  \n",
    "*왜냐하면, 단층 퍼셉트론은 입력값에 따른 출력값을 구분짓는 직선을 1개밖에 그릴 수 없기 때문*\n",
    "\n",
    "<div style=\"text-align: center;\">\n",
    "    <img src=\"../Perceptron/assets/img/Screenshot 2023-07-26 at 5.44.02 PM.png\" style=\"width: 500px; height: 300px;\">\n",
    "</div>\n",
    "<br>\n",
    "\n",
    "<div style=\"text-align: center;\">\n",
    "    <img src=\"../Perceptron/assets/img/Screenshot 2023-07-27 at 10.47.27 AM.png\" style=\"width: 500px; height: 300px;\">\n",
    "</div>\n",
    "<br>\n",
    "\n",
    "<div style=\"text-align: center;\">\n",
    "    <img src=\"../Perceptron/assets/img/Screenshot 2023-07-26 at 10.38.14 PM.png\" style=\"width: 700px; height: 300px;\">\n",
    "</div>\n"
   ]
  },
  {
   "cell_type": "markdown",
   "metadata": {},
   "source": [
    "### **단층 퍼셉트론의 한계 극복 \"다층 퍼셉트론\"**\n",
    "\n",
    "> ##### 단층 퍼셉트론은 입력과 출력 사이의 선형적인 관계만 모델링할 수 있기 때문에 선형적으로 분리되지 않는 데이터에 대해서는 성능이 제한적입니다. 이로 인해 XOR 게이트와 같은 비선형 문제를 해결하지 못하는 단점이 있습니다. 다층 퍼셉트론은 여러 개의 은닉층(hidden layer)을 포함하여 구성된 신경망 구조로서, 이러한 은닉층들은 비선형 활성화 함수를 사용하여 입력과 출력 사이의 복잡한 비선형 관계를 학습할 수 있습니다. \n",
    "\n"
   ]
  },
  {
   "cell_type": "markdown",
   "metadata": {},
   "source": [
    "<div style=\"text-align: center;\">\n",
    "    <img src=\"../Perceptron/assets/img/Screenshot 2023-07-26 at 10.42.20 PM.png\" style=\"width: 500px; height: 300px;\">\n",
    "</div>\n",
    "<br>\n",
    "\n",
    "### **선형과 비선형**\n",
    "<div style=\"text-align: center;\">\n",
    "    <img src=\"../Perceptron/assets/img/Screenshot 2023-07-27 at 10.45.16 AM.png\" style=\"width: 500px; height: 300px;\">\n",
    "</div>\n",
    "<br>\n",
    "\n"
   ]
  },
  {
   "cell_type": "code",
   "execution_count": 11,
   "metadata": {},
   "outputs": [
    {
     "data": {
      "text/plain": [
       "[3, 4, -1]"
      ]
     },
     "execution_count": 11,
     "metadata": {},
     "output_type": "execute_result"
    }
   ],
   "source": [
    "def solution(arr, queries):\n",
    "    results = []\n",
    "    for query in queries:\n",
    "        s, e, k = query\n",
    "        sub_arr = arr[s:e+1]  # Correcting the indexing\n",
    "        larger_than_k = [i for i in sub_arr if i > k]\n",
    "        if larger_than_k:\n",
    "            results.append(min(larger_than_k))\n",
    "        else:\n",
    "            results.append(-1)\n",
    "    return results\n",
    "\n",
    "# test the function with the given example\n",
    "arr = [0, 1, 2, 4, 3]\n",
    "queries = [[0, 4, 2], [0, 3, 2], [0, 2, 2]]\n",
    "solution(arr, queries)\n"
   ]
  },
  {
   "cell_type": "code",
   "execution_count": 14,
   "metadata": {},
   "outputs": [],
   "source": [
    "def XOR(x1, x2):\n",
    "    s1 = NAND(x1, x2)\n",
    "    s2 = OR(x1, x2)\n",
    "    y = AND(s1, s2)\n",
    "    return y"
   ]
  },
  {
   "cell_type": "code",
   "execution_count": 16,
   "metadata": {},
   "outputs": [
    {
     "name": "stdout",
     "output_type": "stream",
     "text": [
      "0\n",
      "1\n",
      "1\n",
      "0\n"
     ]
    }
   ],
   "source": [
    "print(XOR(0, 0))\n",
    "print(XOR(1, 0))\n",
    "print(XOR(0, 1))\n",
    "print(XOR(1, 1))"
   ]
  },
  {
   "cell_type": "markdown",
   "metadata": {},
   "source": [
    "\n",
    "<div style=\"text-align: center;\">\n",
    "    <img src=\"../Perceptron/assets/img/Screenshot 2023-07-26 at 10.46.46 PM.png\" style=\"width: 600px; height: 300px;\">\n",
    "</div>\n",
    "\n",
    "<br>\n",
    "\n",
    "<div style=\"text-align: center;\">\n",
    "    <img src=\"../Perceptron/assets/img/Screenshot 2023-07-27 at 9.20.06 AM.png\" style=\"width: 700px; height: 300px;\">\n",
    "</div>\n",
    "<br>"
   ]
  },
  {
   "cell_type": "markdown",
   "metadata": {},
   "source": [
    "### **동작순서**\n",
    "1. *0층의 두 뉴런이 입력 신호를 받아 1층의 뉴런으로 신호를 보낸다.*  \n",
    "\n",
    "2. *1층의 뉴런이 2층의 뉴런으로 신호를 보내고, 2층의 뉴런은 y를 출력한다.*\n",
    "\n",
    "**단층 퍼셉트론으로는 표현하지 못한 것을 층을 하나 늘려 구현할 수 있다.**\n",
    "\n",
    "2층 퍼셉트론, 정확히는 비선형인 시그모이드 함수를 활성화 함수로 이용하면 임의의 함수를 표현할 수 있다는 사실이 증명됨"
   ]
  },
  {
   "cell_type": "markdown",
   "metadata": {},
   "source": [
    "\n",
    "\n",
    "<div style=\"text-align: center;\">\n",
    "    <img src=\"../Perceptron/assets/img/Screenshot 2023-07-26 at 10.59.54 PM.png\" style=\"width: 700px; height: 300px;\">\n",
    "</div>"
   ]
  },
  {
   "cell_type": "markdown",
   "metadata": {},
   "source": []
  }
 ],
 "metadata": {
  "kernelspec": {
   "display_name": "Python 3",
   "language": "python",
   "name": "python3"
  },
  "language_info": {
   "codemirror_mode": {
    "name": "ipython",
    "version": 3
   },
   "file_extension": ".py",
   "mimetype": "text/x-python",
   "name": "python",
   "nbconvert_exporter": "python",
   "pygments_lexer": "ipython3",
   "version": "3.11.4"
  },
  "orig_nbformat": 4
 },
 "nbformat": 4,
 "nbformat_minor": 2
}
