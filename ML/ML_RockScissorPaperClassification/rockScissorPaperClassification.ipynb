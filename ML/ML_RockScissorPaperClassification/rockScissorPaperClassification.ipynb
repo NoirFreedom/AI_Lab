{
 "cells": [
  {
   "cell_type": "markdown",
   "metadata": {},
   "source": [
    "# **가위바위보 분류기**"
   ]
  },
  {
   "cell_type": "code",
   "execution_count": 192,
   "metadata": {},
   "outputs": [
    {
     "name": "stdout",
     "output_type": "stream",
     "text": [
      "2.13.0\n",
      "1.24.3\n"
     ]
    }
   ],
   "source": [
    "import tensorflow as tf\n",
    "import numpy as np\n",
    "\n",
    "print(tf.__version__)\n",
    "print(np.__version__)"
   ]
  },
  {
   "cell_type": "markdown",
   "metadata": {},
   "source": [
    "### **데이터 불러오기 + Resize 하기**"
   ]
  },
  {
   "cell_type": "code",
   "execution_count": 193,
   "metadata": {},
   "outputs": [
    {
     "name": "stdout",
     "output_type": "stream",
     "text": [
      "PIL 라이브러리 import 완료!\n"
     ]
    }
   ],
   "source": [
    "from PIL import Image\n",
    "import glob\n",
    "import os\n",
    "\n",
    "print(\"PIL 라이브러리 import 완료!\")"
   ]
  },
  {
   "cell_type": "code",
   "execution_count": 194,
   "metadata": {},
   "outputs": [
    {
     "name": "stdout",
     "output_type": "stream",
     "text": [
      "100  images to be resized.\n",
      "100  images resized.\n",
      "가위 이미지 resize 완료!\n",
      "100  images to be resized.\n",
      "100  images resized.\n",
      "바위 이미지 resize 완료!\n",
      "100  images to be resized.\n",
      "100  images resized.\n",
      "보 이미지 resize 완료!\n"
     ]
    },
    {
     "name": "stderr",
     "output_type": "stream",
     "text": [
      "/var/folders/91/xc9v37c52m793hfy2p1zlg5c0000gn/T/ipykernel_52755/3222125731.py:11: DeprecationWarning: ANTIALIAS is deprecated and will be removed in Pillow 10 (2023-07-01). Use LANCZOS or Resampling.LANCZOS instead.\n",
      "  new_img=old_img.resize(target_size,Image.ANTIALIAS)\n"
     ]
    }
   ],
   "source": [
    "# 224x224이미지를 28*28로 변환\n",
    "def resize_images(img_path):\n",
    "\timages=glob.glob(img_path + \"/*.jpg\")  \n",
    "    \n",
    "\tprint(len(images), \" images to be resized.\")\n",
    "\n",
    "    # 파일마다 모두 28x28 사이즈로 바꾸어 저장\n",
    "\ttarget_size=(28,28)\n",
    "\tfor img in images:\n",
    "\t\told_img=Image.open(img)\n",
    "\t\tnew_img=old_img.resize(target_size,Image.ANTIALIAS)\n",
    "\t\tnew_img.save(img, \"JPEG\")\n",
    "    \n",
    "\tprint(len(images), \" images resized.\")\n",
    "\t\n",
    "# 가위 이미지가 저장된 디렉토리 아래의 모든 jpg 파일을 읽어들여서\n",
    "image_dir_path = os.path.join(os.getenv(\"HOME\"), \"Coding\", \"aiffel\", \"projects\", \"MainQuest03\", \"rock_scissor_paper\", \"scissor\")\n",
    "resize_images(image_dir_path)\n",
    "print(\"가위 이미지 resize 완료!\")\n",
    "\n",
    "# 바위 이미지가 저장된 디렉토리 아래의 모든 jpg 파일을 읽어들여서\n",
    "image_dir_path = os.path.join(os.getenv(\"HOME\"), \"Coding\", \"aiffel\", \"projects\", \"MainQuest03\", \"rock_scissor_paper\", \"rock\")\n",
    "resize_images(image_dir_path)\n",
    "print(\"바위 이미지 resize 완료!\")\n",
    "\n",
    "# 보 이미지가 저장된 디렉토리 아래의 모든 jpg 파일을 읽어들여서\n",
    "image_dir_path = os.path.join(os.getenv(\"HOME\"), \"Coding\", \"aiffel\", \"projects\", \"MainQuest03\", \"rock_scissor_paper\", \"paper\")\n",
    "resize_images(image_dir_path)\n",
    "print(\"보 이미지 resize 완료!\")"
   ]
  },
  {
   "cell_type": "code",
   "execution_count": 195,
   "metadata": {},
   "outputs": [
    {
     "name": "stdout",
     "output_type": "stream",
     "text": [
      "학습데이터(x_train)의 이미지 개수는 300 입니다.\n",
      "x_train shape: (300, 28, 28, 3)\n",
      "y_train shape: (300,)\n"
     ]
    }
   ],
   "source": [
    "import numpy as np\n",
    "\n",
    "def load_data(img_path, number_of_data=300):  # 가위바위보 이미지 개수 총합에 주의하세요.\n",
    "    # 가위 : 0, 바위 : 1, 보 : 2\n",
    "    img_size=28\n",
    "    color=3\n",
    "    #이미지 데이터와 라벨(가위 : 0, 바위 : 1, 보 : 2) 데이터를 담을 행렬(matrix) 영역을 생성합니다.\n",
    "    imgs=np.zeros(number_of_data*img_size*img_size*color,dtype=np.int32).reshape(number_of_data,img_size,img_size,color)\n",
    "    labels=np.zeros(number_of_data,dtype=np.int32)\n",
    "\n",
    "    idx=0\n",
    "    for file in glob.iglob(img_path+'/scissor/*.jpg'):\n",
    "        img = np.array(Image.open(file),dtype=np.int32)\n",
    "        imgs[idx,:,:,:]=img    # 데이터 영역에 이미지 행렬을 복사\n",
    "        labels[idx]=0   # 가위 : 0\n",
    "        idx=idx+1\n",
    "\n",
    "    for file in glob.iglob(img_path+'/rock/*.jpg'):\n",
    "        img = np.array(Image.open(file),dtype=np.int32)\n",
    "        imgs[idx,:,:,:]=img    # 데이터 영역에 이미지 행렬을 복사\n",
    "        labels[idx]=1   # 바위 : 1\n",
    "        idx=idx+1  \n",
    "    \n",
    "    for file in glob.iglob(img_path+'/paper/*.jpg'):\n",
    "        img = np.array(Image.open(file),dtype=np.int32)\n",
    "        imgs[idx,:,:,:]=img    # 데이터 영역에 이미지 행렬을 복사\n",
    "        labels[idx]=2   # 보 : 2\n",
    "        idx=idx+1\n",
    "        \n",
    "    print(\"학습데이터(x_train)의 이미지 개수는\", idx,\"입니다.\")\n",
    "    return imgs, labels\n",
    "\n",
    "image_dir_path = os.path.join(os.getenv(\"HOME\"), \"Coding\", \"aiffel\", \"projects\", \"MainQuest03\", \"rock_scissor_paper\")\n",
    "(x_train, y_train)=load_data(image_dir_path)\n",
    "x_train_norm = x_train/255.0   # 입력은 0~1 사이의 값으로 정규화\n",
    "\n",
    "print(\"x_train shape: {}\".format(x_train.shape))\n",
    "print(\"y_train shape: {}\".format(y_train.shape))"
   ]
  },
  {
   "cell_type": "code",
   "execution_count": 196,
   "metadata": {},
   "outputs": [
    {
     "name": "stdout",
     "output_type": "stream",
     "text": [
      "라벨:  0\n"
     ]
    },
    {
     "data": {
      "image/png": "[encoded data removed]",
      "text/plain": [
       "<Figure size 640x480 with 1 Axes>"
      ]
     },
     "metadata": {},
     "output_type": "display_data"
    }
   ],
   "source": [
    "import matplotlib.pyplot as plt\n",
    "\n",
    "\n",
    "plt.imshow(x_train[0])\n",
    "print('라벨: ', y_train[0])"
   ]
  },
  {
   "cell_type": "code",
   "execution_count": 197,
   "metadata": {},
   "outputs": [
    {
     "name": "stdout",
     "output_type": "stream",
     "text": [
      "Model: \"sequential_17\"\n",
      "_________________________________________________________________\n",
      " Layer (type)                Output Shape              Param #   \n",
      "=================================================================\n",
      " conv2d_34 (Conv2D)          (None, 26, 26, 16)        448       \n",
      "                                                                 \n",
      " max_pooling2d_34 (MaxPooli  (None, 13, 13, 16)        0         \n",
      " ng2D)                                                           \n",
      "                                                                 \n",
      " conv2d_35 (Conv2D)          (None, 11, 11, 32)        4640      \n",
      "                                                                 \n",
      " max_pooling2d_35 (MaxPooli  (None, 5, 5, 32)          0         \n",
      " ng2D)                                                           \n",
      "                                                                 \n",
      " flatten_17 (Flatten)        (None, 800)               0         \n",
      "                                                                 \n",
      " dense_34 (Dense)            (None, 32)                25632     \n",
      "                                                                 \n",
      " dense_35 (Dense)            (None, 3)                 99        \n",
      "                                                                 \n",
      "=================================================================\n",
      "Total params: 30819 (120.39 KB)\n"
     ]
    },
    {
     "name": "stdout",
     "output_type": "stream",
     "text": [
      "Trainable params: 30819 (120.39 KB)\n",
      "Non-trainable params: 0 (0.00 Byte)\n",
      "_________________________________________________________________\n"
     ]
    }
   ],
   "source": [
    "import tensorflow as tf\n",
    "from tensorflow import keras\n",
    "import numpy as np\n",
    "\n",
    "model = keras.models.Sequential()\n",
    "model.add(keras.layers.Conv2D(16, (3, 3), activation='relu', input_shape=(28, 28, 3)))\n",
    "model.add(keras.layers.MaxPooling2D((2, 2)))\n",
    "model.add(keras.layers.Conv2D(32, (3, 3), activation='relu'))\n",
    "model.add(keras.layers.MaxPooling2D((2, 2)))\n",
    "model.add(keras.layers.Flatten())\n",
    "model.add(keras.layers.Dense(32, activation='relu'))\n",
    "model.add(keras.layers.Dense(3, activation='softmax'))\n",
    "\n",
    "\n",
    "model.summary()"
   ]
  },
  {
   "cell_type": "code",
   "execution_count": 198,
   "metadata": {},
   "outputs": [
    {
     "name": "stdout",
     "output_type": "stream",
     "text": [
      "학습데이터(x_train)의 이미지 개수는 300 입니다.\n",
      "10/10 - 0s - loss: 1.1061 - accuracy: 0.3733 - 98ms/epoch - 10ms/step\n",
      "Epoch 1/15\n",
      "10/10 [==============================] - 0s 3ms/step - loss: 1.0853 - accuracy: 0.4167\n",
      "Epoch 2/15\n",
      "10/10 [==============================] - 0s 3ms/step - loss: 1.0449 - accuracy: 0.5033\n",
      "Epoch 3/15\n",
      "10/10 [==============================] - 0s 3ms/step - loss: 0.9702 - accuracy: 0.6167\n",
      "Epoch 4/15\n",
      "10/10 [==============================] - 0s 3ms/step - loss: 0.8455 - accuracy: 0.7467\n",
      "Epoch 5/15\n",
      "10/10 [==============================] - 0s 3ms/step - loss: 0.6986 - accuracy: 0.7633\n",
      "Epoch 6/15\n",
      "10/10 [==============================] - 0s 5ms/step - loss: 0.5707 - accuracy: 0.8300\n",
      "Epoch 7/15\n",
      "10/10 [==============================] - 0s 3ms/step - loss: 0.4583 - accuracy: 0.8533\n",
      "Epoch 8/15\n",
      "10/10 [==============================] - 0s 3ms/step - loss: 0.3457 - accuracy: 0.9200\n",
      "Epoch 9/15\n",
      "10/10 [==============================] - 0s 3ms/step - loss: 0.2652 - accuracy: 0.9433\n",
      "Epoch 10/15\n",
      "10/10 [==============================] - 0s 3ms/step - loss: 0.2035 - accuracy: 0.9533\n",
      "Epoch 11/15\n",
      "10/10 [==============================] - 0s 3ms/step - loss: 0.1809 - accuracy: 0.9600\n",
      "Epoch 12/15\n",
      "10/10 [==============================] - 0s 3ms/step - loss: 0.1230 - accuracy: 0.9833\n",
      "Epoch 13/15\n",
      "10/10 [==============================] - 0s 3ms/step - loss: 0.0976 - accuracy: 0.9867\n",
      "Epoch 14/15\n",
      "10/10 [==============================] - 0s 3ms/step - loss: 0.0770 - accuracy: 0.9967\n",
      "Epoch 15/15\n",
      "10/10 [==============================] - 0s 3ms/step - loss: 0.0706 - accuracy: 0.9933\n",
      "10/10 - 0s - loss: 0.0569 - accuracy: 0.9933 - 21ms/epoch - 2ms/step\n",
      "테스트 데이터의 손실 값: 0.05690387636423111\n",
      "테스트 데이터의 정확도: 0.9933333396911621\n"
     ]
    }
   ],
   "source": [
    "# 모델 컴파일\n",
    "model.compile(optimizer='adam',\n",
    "                loss='sparse_categorical_crossentropy',\n",
    "                metrics=['accuracy'])\n",
    "\n",
    "test_image_dir_path = os.path.join(os.getenv(\"HOME\"), \"Coding\", \"aiffel\", \"projects\", \"MainQuest03\", \"rock_scissor_paper\")\n",
    "(x_test, y_test) = load_data(test_image_dir_path)\n",
    "\n",
    "x_test_norm = x_test / 255.0\n",
    "test_loss, test_accuracy = model.evaluate(x_test_norm, y_test, verbose=2)\n",
    "\n",
    "# 모델 학습\n",
    "model.fit(x_train_norm, y_train, epochs=15)\n",
    "\n",
    "# 모델 평가\n",
    "test_loss, test_accuracy = model.evaluate(x_test_norm, y_test, verbose=2)\n",
    "print(f\"테스트 데이터의 손실 값: {test_loss}\")\n",
    "print(f\"테스트 데이터의 정확도: {test_accuracy}\")"
   ]
  },
  {
   "cell_type": "code",
   "execution_count": 199,
   "metadata": {},
   "outputs": [
    {
     "name": "stdout",
     "output_type": "stream",
     "text": [
      "100  images to be resized.\n",
      "100  images resized.\n",
      "100  images to be resized.\n",
      "100  images resized.\n",
      "100  images to be resized.\n",
      "100  images resized.\n",
      "학습데이터(x_train)의 이미지 개수는 0 입니다.\n"
     ]
    },
    {
     "name": "stderr",
     "output_type": "stream",
     "text": [
      "/var/folders/91/xc9v37c52m793hfy2p1zlg5c0000gn/T/ipykernel_52755/3222125731.py:11: DeprecationWarning: ANTIALIAS is deprecated and will be removed in Pillow 10 (2023-07-01). Use LANCZOS or Resampling.LANCZOS instead.\n",
      "  new_img=old_img.resize(target_size,Image.ANTIALIAS)\n"
     ]
    }
   ],
   "source": [
    "\n",
    "# 테스트 데이터셋 준비\n",
    "test_image_dir_path = os.path.join(os.getenv(\"HOME\"), \"Coding\", \"aiffel\", \"projects\", \"MainQuest03\", \"rock_scissor_paper\", \"test_rock_scissor_paper\", \"testScissor\")\n",
    "resize_images(test_image_dir_path)\n",
    "\n",
    "test_image_dir_path = os.path.join(os.getenv(\"HOME\"), \"Coding\", \"aiffel\", \"projects\", \"MainQuest03\", \"rock_scissor_paper\", \"test_rock_scissor_paper\", \"testRock\")\n",
    "resize_images(test_image_dir_path)\n",
    "\n",
    "test_image_dir_path = os.path.join(os.getenv(\"HOME\"), \"Coding\", \"aiffel\", \"projects\", \"MainQuest03\", \"rock_scissor_paper\", \"test_rock_scissor_paper\", \"testPaper\")\n",
    "resize_images(test_image_dir_path)\n",
    "\n",
    "test_image_dir_path = os.path.join(os.getenv(\"HOME\"), \"Coding\", \"aiffel\", \"projects\", \"MainQuest03\", \"rock_scissor_paper\", \"test_rock_scissor_paper\")\n",
    "(x_test, y_test) = load_data(test_image_dir_path)\n",
    "x_test_norm = x_test/255.0\n"
   ]
  },
  {
   "cell_type": "code",
   "execution_count": 200,
   "metadata": {},
   "outputs": [
    {
     "name": "stdout",
     "output_type": "stream",
     "text": [
      "10/10 - 0s - loss: 1.2062 - accuracy: 0.0000e+00 - 25ms/epoch - 2ms/step\n",
      "테스트 데이터의 손실 값: 1.206199049949646\n",
      "테스트 데이터의 정확도: 0.0\n"
     ]
    }
   ],
   "source": [
    "test_loss, test_accuracy = model.evaluate(x_test_norm, y_test, verbose=2)\n",
    "print(f\"테스트 데이터의 손실 값: {test_loss}\")\n",
    "print(f\"테스트 데이터의 정확도: {test_accuracy}\")"
   ]
  }
 ],
 "metadata": {
  "kernelspec": {
   "display_name": "Python 3",
   "language": "python",
   "name": "python3"
  },
  "language_info": {
   "codemirror_mode": {
    "name": "ipython",
    "version": 3
   },
   "file_extension": ".py",
   "mimetype": "text/x-python",
   "name": "python",
   "nbconvert_exporter": "python",
   "pygments_lexer": "ipython3",
   "version": "3.11.4"
  },
  "orig_nbformat": 4
 },
 "nbformat": 4,
 "nbformat_minor": 2
}
