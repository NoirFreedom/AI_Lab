{
  "nbformat": 4,
  "nbformat_minor": 0,
  "metadata": {
    "colab": {
      "provenance": [],
      "authorship_tag": "ABX9TyPTym4qE3khnvz9U4pvMmpE",
      "include_colab_link": true
    },
    "kernelspec": {
      "name": "python3",
      "display_name": "Python 3"
    },
    "language_info": {
      "name": "python"
    }
  },
  "cells": [
    {
      "cell_type": "markdown",
      "metadata": {
        "id": "view-in-github",
        "colab_type": "text"
      },
      "source": [
        "<a href=\"https://colab.research.google.com/github/LaVita337/AIFFEL_Workplace/blob/main/Quest/Quest03/quest3.ipynb\" target=\"_parent\"><img src=\"https://colab.research.google.com/assets/colab-badge.svg\" alt=\"Open In Colab\"/></a>"
      ]
    },
    {
      "cell_type": "code",
      "execution_count": null,
      "metadata": {
        "id": "HmhIuZ4fs-ha"
      },
      "outputs": [],
      "source": [
        "import re                                # 정규표현식을 다루기 위한 파이썬 내장모듈 임포트\n",
        "from collections import Counter          #collections 모듈에 포함된 Counter 클래스 (이터러블한 데이터를 받아 각 요소의 개수를 카운트하고 딕셔너리로 받는다.)\n",
        "\n",
        "#hello\n",
        "def find_2grams(words):\n",
        "    return [(words[i], words[i+1]) for i in range(len(words)-1)]       #리스트 컴프리헨션을 사용해 2-gram을 찾는 함수를 정의한다.\n",
        "\n",
        "\n",
        "with open('/06TheAvengers.txt', 'r') as file: # 파일을 읽기형식으로 연다\n",
        "    script = file.read().lower()            # 읽기형식으로 불러낸 파일을 소문자로 다 바꾼다.\n",
        "    words = re.findall(r'\\b\\w+\\b', script)  # 단어만 추출하여 리스트로 만든다.\n",
        "    two_grams = find_2grams(words)          #find_2grams 함수에 소문자로 된 단어만 추출하여 만든 리스트 words를 넣어 2-gram을 찾고 그 리스트를 two_grams라는 변수에 할당한다.\n",
        "\n",
        "\n",
        "counter = Counter(two_grams)                # Counter 클래스 사용한 two_grams를 counter 라는 변수에 할당한다.(Counter 클래스는 딕셔너리 형태로 출력한다.)\n",
        "max_2gram, max_count = counter.most_common(1)[0]   #max_2gram은 counter.most_common(1)을 할당하여 제일 많이 나온 2_gram을 할당하고, max_counter는 횟수를 할당한다.\n",
        "\n",
        "# 결과 출력\n",
        "print(max_2gram, max_count)\n",
        "print(counter)"
      ]
    }
  ]
}